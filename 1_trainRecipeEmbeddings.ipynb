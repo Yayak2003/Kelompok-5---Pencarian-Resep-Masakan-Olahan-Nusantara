{
 "cells": [
  {
   "cell_type": "markdown",
   "metadata": {},
   "source": [
    "# Train Fasttext language model using Gensim"
   ]
  },
  {
   "cell_type": "code",
   "execution_count": 1,
   "metadata": {},
   "outputs": [],
   "source": [
    "import pandas as pd\n",
    "import numpy as np\n",
    "import collections\n",
    "import gensim \n",
    "from gensim.models import word2vec, phrases\n",
    "from gensim.parsing.preprocessing import remove_stopwords, strip_punctuation, strip_numeric,\\\n",
    "                    strip_non_alphanum, strip_multiple_whitespaces, strip_short\n",
    "from textblob import TextBlob, Word\n",
    "\n",
    "import re\n",
    "import matplotlib.pyplot as plt\n",
    "import matplotlib.patches as mpatches\n",
    "import seaborn as sns\n",
    "%matplotlib inline"
   ]
  },
  {
   "cell_type": "code",
   "execution_count": 2,
   "metadata": {},
   "outputs": [
    {
     "name": "stdout",
     "output_type": "stream",
     "text": [
      " -  .venv\n",
      " -  1_trainRecipeEmbeddings.ipynb\n",
      " -  1_trainRecipeEmbeddings_files\n",
      " -  2_indexRecipeData.ipynb\n",
      " -  2_indexRecipeData.md\n",
      " -  README.md\n",
      "found 6 files!\n"
     ]
    }
   ],
   "source": [
    "import os\n",
    "fc=0\n",
    "for el in os.listdir(\".\"):\n",
    "    fc+=1\n",
    "    print(\" - \",el)\n",
    "print(\"found\",fc,\"files!\")"
   ]
  },
  {
   "cell_type": "code",
   "execution_count": 3,
   "metadata": {},
   "outputs": [],
   "source": [
    "files = [\n",
    "    'data/dataset-ayam.csv',\n",
    "    'data/dataset-ikan.csv',\n",
    "    'data/dataset-kambing.csv',\n",
    "    'data/dataset-sapi.csv',\n",
    "    'data/dataset-tahu.csv',\n",
    "    'data/dataset-tempe.csv',\n",
    "    'data/dataset-telur.csv',\n",
    "    'data/dataset-udang.csv'\n",
    "]"
   ]
  },
  {
   "cell_type": "code",
   "execution_count": 4,
   "metadata": {},
   "outputs": [
    {
     "ename": "FileNotFoundError",
     "evalue": "[Errno 2] No such file or directory: 'data/dataset-ayam.csv'",
     "output_type": "error",
     "traceback": [
      "\u001b[1;31m---------------------------------------------------------------------------\u001b[0m",
      "\u001b[1;31mFileNotFoundError\u001b[0m                         Traceback (most recent call last)",
      "Cell \u001b[1;32mIn[4], line 1\u001b[0m\n\u001b[1;32m----> 1\u001b[0m raw \u001b[38;5;241m=\u001b[39m \u001b[43mpd\u001b[49m\u001b[38;5;241;43m.\u001b[39;49m\u001b[43mread_csv\u001b[49m\u001b[43m(\u001b[49m\u001b[38;5;124;43mr\u001b[39;49m\u001b[38;5;124;43m\"\u001b[39;49m\u001b[38;5;124;43mdata/dataset-ayam.csv\u001b[39;49m\u001b[38;5;124;43m\"\u001b[39;49m\u001b[43m)\u001b[49m\n\u001b[0;32m      2\u001b[0m df \u001b[38;5;241m=\u001b[39m raw\u001b[38;5;241m.\u001b[39mcopy()\n\u001b[0;32m      3\u001b[0m df\u001b[38;5;241m.\u001b[39mhead()\n",
      "File \u001b[1;32m~\\AppData\\Roaming\\Python\\Python312\\site-packages\\pandas\\io\\parsers\\readers.py:948\u001b[0m, in \u001b[0;36mread_csv\u001b[1;34m(filepath_or_buffer, sep, delimiter, header, names, index_col, usecols, dtype, engine, converters, true_values, false_values, skipinitialspace, skiprows, skipfooter, nrows, na_values, keep_default_na, na_filter, verbose, skip_blank_lines, parse_dates, infer_datetime_format, keep_date_col, date_parser, date_format, dayfirst, cache_dates, iterator, chunksize, compression, thousands, decimal, lineterminator, quotechar, quoting, doublequote, escapechar, comment, encoding, encoding_errors, dialect, on_bad_lines, delim_whitespace, low_memory, memory_map, float_precision, storage_options, dtype_backend)\u001b[0m\n\u001b[0;32m    935\u001b[0m kwds_defaults \u001b[38;5;241m=\u001b[39m _refine_defaults_read(\n\u001b[0;32m    936\u001b[0m     dialect,\n\u001b[0;32m    937\u001b[0m     delimiter,\n\u001b[1;32m   (...)\u001b[0m\n\u001b[0;32m    944\u001b[0m     dtype_backend\u001b[38;5;241m=\u001b[39mdtype_backend,\n\u001b[0;32m    945\u001b[0m )\n\u001b[0;32m    946\u001b[0m kwds\u001b[38;5;241m.\u001b[39mupdate(kwds_defaults)\n\u001b[1;32m--> 948\u001b[0m \u001b[38;5;28;01mreturn\u001b[39;00m \u001b[43m_read\u001b[49m\u001b[43m(\u001b[49m\u001b[43mfilepath_or_buffer\u001b[49m\u001b[43m,\u001b[49m\u001b[43m \u001b[49m\u001b[43mkwds\u001b[49m\u001b[43m)\u001b[49m\n",
      "File \u001b[1;32m~\\AppData\\Roaming\\Python\\Python312\\site-packages\\pandas\\io\\parsers\\readers.py:611\u001b[0m, in \u001b[0;36m_read\u001b[1;34m(filepath_or_buffer, kwds)\u001b[0m\n\u001b[0;32m    608\u001b[0m _validate_names(kwds\u001b[38;5;241m.\u001b[39mget(\u001b[38;5;124m\"\u001b[39m\u001b[38;5;124mnames\u001b[39m\u001b[38;5;124m\"\u001b[39m, \u001b[38;5;28;01mNone\u001b[39;00m))\n\u001b[0;32m    610\u001b[0m \u001b[38;5;66;03m# Create the parser.\u001b[39;00m\n\u001b[1;32m--> 611\u001b[0m parser \u001b[38;5;241m=\u001b[39m \u001b[43mTextFileReader\u001b[49m\u001b[43m(\u001b[49m\u001b[43mfilepath_or_buffer\u001b[49m\u001b[43m,\u001b[49m\u001b[43m \u001b[49m\u001b[38;5;241;43m*\u001b[39;49m\u001b[38;5;241;43m*\u001b[39;49m\u001b[43mkwds\u001b[49m\u001b[43m)\u001b[49m\n\u001b[0;32m    613\u001b[0m \u001b[38;5;28;01mif\u001b[39;00m chunksize \u001b[38;5;129;01mor\u001b[39;00m iterator:\n\u001b[0;32m    614\u001b[0m     \u001b[38;5;28;01mreturn\u001b[39;00m parser\n",
      "File \u001b[1;32m~\\AppData\\Roaming\\Python\\Python312\\site-packages\\pandas\\io\\parsers\\readers.py:1448\u001b[0m, in \u001b[0;36mTextFileReader.__init__\u001b[1;34m(self, f, engine, **kwds)\u001b[0m\n\u001b[0;32m   1445\u001b[0m     \u001b[38;5;28mself\u001b[39m\u001b[38;5;241m.\u001b[39moptions[\u001b[38;5;124m\"\u001b[39m\u001b[38;5;124mhas_index_names\u001b[39m\u001b[38;5;124m\"\u001b[39m] \u001b[38;5;241m=\u001b[39m kwds[\u001b[38;5;124m\"\u001b[39m\u001b[38;5;124mhas_index_names\u001b[39m\u001b[38;5;124m\"\u001b[39m]\n\u001b[0;32m   1447\u001b[0m \u001b[38;5;28mself\u001b[39m\u001b[38;5;241m.\u001b[39mhandles: IOHandles \u001b[38;5;241m|\u001b[39m \u001b[38;5;28;01mNone\u001b[39;00m \u001b[38;5;241m=\u001b[39m \u001b[38;5;28;01mNone\u001b[39;00m\n\u001b[1;32m-> 1448\u001b[0m \u001b[38;5;28mself\u001b[39m\u001b[38;5;241m.\u001b[39m_engine \u001b[38;5;241m=\u001b[39m \u001b[38;5;28;43mself\u001b[39;49m\u001b[38;5;241;43m.\u001b[39;49m\u001b[43m_make_engine\u001b[49m\u001b[43m(\u001b[49m\u001b[43mf\u001b[49m\u001b[43m,\u001b[49m\u001b[43m \u001b[49m\u001b[38;5;28;43mself\u001b[39;49m\u001b[38;5;241;43m.\u001b[39;49m\u001b[43mengine\u001b[49m\u001b[43m)\u001b[49m\n",
      "File \u001b[1;32m~\\AppData\\Roaming\\Python\\Python312\\site-packages\\pandas\\io\\parsers\\readers.py:1705\u001b[0m, in \u001b[0;36mTextFileReader._make_engine\u001b[1;34m(self, f, engine)\u001b[0m\n\u001b[0;32m   1703\u001b[0m     \u001b[38;5;28;01mif\u001b[39;00m \u001b[38;5;124m\"\u001b[39m\u001b[38;5;124mb\u001b[39m\u001b[38;5;124m\"\u001b[39m \u001b[38;5;129;01mnot\u001b[39;00m \u001b[38;5;129;01min\u001b[39;00m mode:\n\u001b[0;32m   1704\u001b[0m         mode \u001b[38;5;241m+\u001b[39m\u001b[38;5;241m=\u001b[39m \u001b[38;5;124m\"\u001b[39m\u001b[38;5;124mb\u001b[39m\u001b[38;5;124m\"\u001b[39m\n\u001b[1;32m-> 1705\u001b[0m \u001b[38;5;28mself\u001b[39m\u001b[38;5;241m.\u001b[39mhandles \u001b[38;5;241m=\u001b[39m \u001b[43mget_handle\u001b[49m\u001b[43m(\u001b[49m\n\u001b[0;32m   1706\u001b[0m \u001b[43m    \u001b[49m\u001b[43mf\u001b[49m\u001b[43m,\u001b[49m\n\u001b[0;32m   1707\u001b[0m \u001b[43m    \u001b[49m\u001b[43mmode\u001b[49m\u001b[43m,\u001b[49m\n\u001b[0;32m   1708\u001b[0m \u001b[43m    \u001b[49m\u001b[43mencoding\u001b[49m\u001b[38;5;241;43m=\u001b[39;49m\u001b[38;5;28;43mself\u001b[39;49m\u001b[38;5;241;43m.\u001b[39;49m\u001b[43moptions\u001b[49m\u001b[38;5;241;43m.\u001b[39;49m\u001b[43mget\u001b[49m\u001b[43m(\u001b[49m\u001b[38;5;124;43m\"\u001b[39;49m\u001b[38;5;124;43mencoding\u001b[39;49m\u001b[38;5;124;43m\"\u001b[39;49m\u001b[43m,\u001b[49m\u001b[43m \u001b[49m\u001b[38;5;28;43;01mNone\u001b[39;49;00m\u001b[43m)\u001b[49m\u001b[43m,\u001b[49m\n\u001b[0;32m   1709\u001b[0m \u001b[43m    \u001b[49m\u001b[43mcompression\u001b[49m\u001b[38;5;241;43m=\u001b[39;49m\u001b[38;5;28;43mself\u001b[39;49m\u001b[38;5;241;43m.\u001b[39;49m\u001b[43moptions\u001b[49m\u001b[38;5;241;43m.\u001b[39;49m\u001b[43mget\u001b[49m\u001b[43m(\u001b[49m\u001b[38;5;124;43m\"\u001b[39;49m\u001b[38;5;124;43mcompression\u001b[39;49m\u001b[38;5;124;43m\"\u001b[39;49m\u001b[43m,\u001b[49m\u001b[43m \u001b[49m\u001b[38;5;28;43;01mNone\u001b[39;49;00m\u001b[43m)\u001b[49m\u001b[43m,\u001b[49m\n\u001b[0;32m   1710\u001b[0m \u001b[43m    \u001b[49m\u001b[43mmemory_map\u001b[49m\u001b[38;5;241;43m=\u001b[39;49m\u001b[38;5;28;43mself\u001b[39;49m\u001b[38;5;241;43m.\u001b[39;49m\u001b[43moptions\u001b[49m\u001b[38;5;241;43m.\u001b[39;49m\u001b[43mget\u001b[49m\u001b[43m(\u001b[49m\u001b[38;5;124;43m\"\u001b[39;49m\u001b[38;5;124;43mmemory_map\u001b[39;49m\u001b[38;5;124;43m\"\u001b[39;49m\u001b[43m,\u001b[49m\u001b[43m \u001b[49m\u001b[38;5;28;43;01mFalse\u001b[39;49;00m\u001b[43m)\u001b[49m\u001b[43m,\u001b[49m\n\u001b[0;32m   1711\u001b[0m \u001b[43m    \u001b[49m\u001b[43mis_text\u001b[49m\u001b[38;5;241;43m=\u001b[39;49m\u001b[43mis_text\u001b[49m\u001b[43m,\u001b[49m\n\u001b[0;32m   1712\u001b[0m \u001b[43m    \u001b[49m\u001b[43merrors\u001b[49m\u001b[38;5;241;43m=\u001b[39;49m\u001b[38;5;28;43mself\u001b[39;49m\u001b[38;5;241;43m.\u001b[39;49m\u001b[43moptions\u001b[49m\u001b[38;5;241;43m.\u001b[39;49m\u001b[43mget\u001b[49m\u001b[43m(\u001b[49m\u001b[38;5;124;43m\"\u001b[39;49m\u001b[38;5;124;43mencoding_errors\u001b[39;49m\u001b[38;5;124;43m\"\u001b[39;49m\u001b[43m,\u001b[49m\u001b[43m \u001b[49m\u001b[38;5;124;43m\"\u001b[39;49m\u001b[38;5;124;43mstrict\u001b[39;49m\u001b[38;5;124;43m\"\u001b[39;49m\u001b[43m)\u001b[49m\u001b[43m,\u001b[49m\n\u001b[0;32m   1713\u001b[0m \u001b[43m    \u001b[49m\u001b[43mstorage_options\u001b[49m\u001b[38;5;241;43m=\u001b[39;49m\u001b[38;5;28;43mself\u001b[39;49m\u001b[38;5;241;43m.\u001b[39;49m\u001b[43moptions\u001b[49m\u001b[38;5;241;43m.\u001b[39;49m\u001b[43mget\u001b[49m\u001b[43m(\u001b[49m\u001b[38;5;124;43m\"\u001b[39;49m\u001b[38;5;124;43mstorage_options\u001b[39;49m\u001b[38;5;124;43m\"\u001b[39;49m\u001b[43m,\u001b[49m\u001b[43m \u001b[49m\u001b[38;5;28;43;01mNone\u001b[39;49;00m\u001b[43m)\u001b[49m\u001b[43m,\u001b[49m\n\u001b[0;32m   1714\u001b[0m \u001b[43m\u001b[49m\u001b[43m)\u001b[49m\n\u001b[0;32m   1715\u001b[0m \u001b[38;5;28;01massert\u001b[39;00m \u001b[38;5;28mself\u001b[39m\u001b[38;5;241m.\u001b[39mhandles \u001b[38;5;129;01mis\u001b[39;00m \u001b[38;5;129;01mnot\u001b[39;00m \u001b[38;5;28;01mNone\u001b[39;00m\n\u001b[0;32m   1716\u001b[0m f \u001b[38;5;241m=\u001b[39m \u001b[38;5;28mself\u001b[39m\u001b[38;5;241m.\u001b[39mhandles\u001b[38;5;241m.\u001b[39mhandle\n",
      "File \u001b[1;32m~\\AppData\\Roaming\\Python\\Python312\\site-packages\\pandas\\io\\common.py:863\u001b[0m, in \u001b[0;36mget_handle\u001b[1;34m(path_or_buf, mode, encoding, compression, memory_map, is_text, errors, storage_options)\u001b[0m\n\u001b[0;32m    858\u001b[0m \u001b[38;5;28;01melif\u001b[39;00m \u001b[38;5;28misinstance\u001b[39m(handle, \u001b[38;5;28mstr\u001b[39m):\n\u001b[0;32m    859\u001b[0m     \u001b[38;5;66;03m# Check whether the filename is to be opened in binary mode.\u001b[39;00m\n\u001b[0;32m    860\u001b[0m     \u001b[38;5;66;03m# Binary mode does not support 'encoding' and 'newline'.\u001b[39;00m\n\u001b[0;32m    861\u001b[0m     \u001b[38;5;28;01mif\u001b[39;00m ioargs\u001b[38;5;241m.\u001b[39mencoding \u001b[38;5;129;01mand\u001b[39;00m \u001b[38;5;124m\"\u001b[39m\u001b[38;5;124mb\u001b[39m\u001b[38;5;124m\"\u001b[39m \u001b[38;5;129;01mnot\u001b[39;00m \u001b[38;5;129;01min\u001b[39;00m ioargs\u001b[38;5;241m.\u001b[39mmode:\n\u001b[0;32m    862\u001b[0m         \u001b[38;5;66;03m# Encoding\u001b[39;00m\n\u001b[1;32m--> 863\u001b[0m         handle \u001b[38;5;241m=\u001b[39m \u001b[38;5;28;43mopen\u001b[39;49m\u001b[43m(\u001b[49m\n\u001b[0;32m    864\u001b[0m \u001b[43m            \u001b[49m\u001b[43mhandle\u001b[49m\u001b[43m,\u001b[49m\n\u001b[0;32m    865\u001b[0m \u001b[43m            \u001b[49m\u001b[43mioargs\u001b[49m\u001b[38;5;241;43m.\u001b[39;49m\u001b[43mmode\u001b[49m\u001b[43m,\u001b[49m\n\u001b[0;32m    866\u001b[0m \u001b[43m            \u001b[49m\u001b[43mencoding\u001b[49m\u001b[38;5;241;43m=\u001b[39;49m\u001b[43mioargs\u001b[49m\u001b[38;5;241;43m.\u001b[39;49m\u001b[43mencoding\u001b[49m\u001b[43m,\u001b[49m\n\u001b[0;32m    867\u001b[0m \u001b[43m            \u001b[49m\u001b[43merrors\u001b[49m\u001b[38;5;241;43m=\u001b[39;49m\u001b[43merrors\u001b[49m\u001b[43m,\u001b[49m\n\u001b[0;32m    868\u001b[0m \u001b[43m            \u001b[49m\u001b[43mnewline\u001b[49m\u001b[38;5;241;43m=\u001b[39;49m\u001b[38;5;124;43m\"\u001b[39;49m\u001b[38;5;124;43m\"\u001b[39;49m\u001b[43m,\u001b[49m\n\u001b[0;32m    869\u001b[0m \u001b[43m        \u001b[49m\u001b[43m)\u001b[49m\n\u001b[0;32m    870\u001b[0m     \u001b[38;5;28;01melse\u001b[39;00m:\n\u001b[0;32m    871\u001b[0m         \u001b[38;5;66;03m# Binary mode\u001b[39;00m\n\u001b[0;32m    872\u001b[0m         handle \u001b[38;5;241m=\u001b[39m \u001b[38;5;28mopen\u001b[39m(handle, ioargs\u001b[38;5;241m.\u001b[39mmode)\n",
      "\u001b[1;31mFileNotFoundError\u001b[0m: [Errno 2] No such file or directory: 'data/dataset-ayam.csv'"
     ]
    }
   ],
   "source": [
    "raw = pd.read_csv(r\"data/dataset-ayam.csv\")\n",
    "df = raw.copy()\n",
    "df.head()"
   ]
  },
  {
   "cell_type": "markdown",
   "metadata": {},
   "source": [
    "# Basic insights and data processing"
   ]
  },
  {
   "cell_type": "code",
   "execution_count": 91,
   "metadata": {},
   "outputs": [
    {
     "data": {
      "text/html": [
       "<div>\n",
       "<style scoped>\n",
       "    .dataframe tbody tr th:only-of-type {\n",
       "        vertical-align: middle;\n",
       "    }\n",
       "\n",
       "    .dataframe tbody tr th {\n",
       "        vertical-align: top;\n",
       "    }\n",
       "\n",
       "    .dataframe thead th {\n",
       "        text-align: right;\n",
       "    }\n",
       "</style>\n",
       "<table border=\"1\" class=\"dataframe\">\n",
       "  <thead>\n",
       "    <tr style=\"text-align: right;\">\n",
       "      <th></th>\n",
       "      <th>Title</th>\n",
       "      <th>Ingredients</th>\n",
       "      <th>Steps</th>\n",
       "      <th>Loves</th>\n",
       "    </tr>\n",
       "  </thead>\n",
       "  <tbody>\n",
       "    <tr>\n",
       "      <th>0</th>\n",
       "      <td>Lumpia udang kulit tahu ala fe'</td>\n",
       "      <td>50 gram ayam potong kotak kecil--200 gram udan...</td>\n",
       "      <td>Campur ayam &amp; udang dengan semua bumbu &amp; daun ...</td>\n",
       "      <td>4</td>\n",
       "    </tr>\n",
       "    <tr>\n",
       "      <th>1</th>\n",
       "      <td>Bakso Ayam Udang Keto</td>\n",
       "      <td>400 gr ayam giling--250 gr udang kupas--3 telu...</td>\n",
       "      <td>Campur semua bahan dalam food processor, kecua...</td>\n",
       "      <td>2</td>\n",
       "    </tr>\n",
       "    <tr>\n",
       "      <th>2</th>\n",
       "      <td>Udang ala pop corn</td>\n",
       "      <td>1/4 kg udang basah ukuran sedang--1 bungkus ko...</td>\n",
       "      <td>Buang kepala dan cangkang udang.--Cuci bersih ...</td>\n",
       "      <td>2</td>\n",
       "    </tr>\n",
       "    <tr>\n",
       "      <th>3</th>\n",
       "      <td>Bakwan Udang Sederhana</td>\n",
       "      <td>1/2 kg Tepung terigu (sudah di ayak)--1/2 Udan...</td>\n",
       "      <td>Haluskan bawang putih, garam, picin dan merica...</td>\n",
       "      <td>0</td>\n",
       "    </tr>\n",
       "    <tr>\n",
       "      <th>4</th>\n",
       "      <td>Udang Goreng Tepung Mayonaise</td>\n",
       "      <td>300 gr udang (buang kepalanya)--Jeruk nipis--T...</td>\n",
       "      <td>Cuci bersih udang, tambahkan jeruk nipis supay...</td>\n",
       "      <td>6</td>\n",
       "    </tr>\n",
       "  </tbody>\n",
       "</table>\n",
       "</div>"
      ],
      "text/plain": [
       "                             Title  \\\n",
       "0  Lumpia udang kulit tahu ala fe'   \n",
       "1            Bakso Ayam Udang Keto   \n",
       "2               Udang ala pop corn   \n",
       "3           Bakwan Udang Sederhana   \n",
       "4    Udang Goreng Tepung Mayonaise   \n",
       "\n",
       "                                         Ingredients  \\\n",
       "0  50 gram ayam potong kotak kecil--200 gram udan...   \n",
       "1  400 gr ayam giling--250 gr udang kupas--3 telu...   \n",
       "2  1/4 kg udang basah ukuran sedang--1 bungkus ko...   \n",
       "3  1/2 kg Tepung terigu (sudah di ayak)--1/2 Udan...   \n",
       "4  300 gr udang (buang kepalanya)--Jeruk nipis--T...   \n",
       "\n",
       "                                               Steps  Loves  \n",
       "0  Campur ayam & udang dengan semua bumbu & daun ...      4  \n",
       "1  Campur semua bahan dalam food processor, kecua...      2  \n",
       "2  Buang kepala dan cangkang udang.--Cuci bersih ...      2  \n",
       "3  Haluskan bawang putih, garam, picin dan merica...      0  \n",
       "4  Cuci bersih udang, tambahkan jeruk nipis supay...      6  "
      ]
     },
     "execution_count": 91,
     "metadata": {},
     "output_type": "execute_result"
    }
   ],
   "source": [
    "#we keep the Translated versions of Ingredients and Instructions (already pre-processed data)\n",
    "columns_to_drop = ['URL']\n",
    "df_indoRecipes = df.drop(columns = columns_to_drop).dropna()\n",
    "\n",
    "df_indoRecipes.head()"
   ]
  },
  {
   "cell_type": "code",
   "execution_count": 92,
   "metadata": {},
   "outputs": [
    {
     "data": {
      "image/png": "[encoded data removed]",
      "text/plain": [
       "<Figure size 800x400 with 1 Axes>"
      ]
     },
     "metadata": {},
     "output_type": "display_data"
    }
   ],
   "source": [
    "bins = [0, 10, 20, 30, 40, 50, 60, 70, 80, 90, 100]  # You can adjust these ranges based on your data\n",
    "labels = ['0-10', '11-20', '21-30', '31-40', '41-50', '51-60', '61-70', '71-80', '81-90', '91-100']\n",
    "\n",
    "df_indoRecipes['Loves_bin'] = pd.cut(df_indoRecipes['Loves'], bins=bins, labels=labels, right=True)\n",
    "\n",
    "# Count frequencies in each bin\n",
    "counts = df_indoRecipes['Loves_bin'].value_counts().sort_index()\n",
    "\n",
    "# Create a DataFrame for plotting\n",
    "mc = pd.DataFrame(counts).reset_index()\n",
    "mc.columns = ['Likes Range', 'Frequency']\n",
    "\n",
    "# Plot the data\n",
    "mc.plot(kind='barh', x='Likes Range', color='turquoise', figsize=(8,4))\n",
    "plt.xlabel('Frequency')\n",
    "plt.ylabel('Likes Range')\n",
    "plt.title('Frequency of Recipes by Likes Range')\n",
    "plt.grid(axis='x', linestyle='--', alpha=0.7)\n",
    "plt.show()"
   ]
  },
  {
   "cell_type": "code",
   "execution_count": 93,
   "metadata": {},
   "outputs": [
    {
     "name": "stdout",
     "output_type": "stream",
     "text": [
      "                       File  Row Count\n",
      "0     data/dataset-ayam.csv       1916\n",
      "1     data/dataset-ikan.csv       1932\n",
      "2  data/dataset-kambing.csv       1896\n",
      "3     data/dataset-sapi.csv       1958\n",
      "4     data/dataset-tahu.csv       1985\n",
      "5    data/dataset-tempe.csv       1986\n",
      "6    data/dataset-telur.csv       1974\n",
      "7    data/dataset-udang.csv       1994\n"
     ]
    },
    {
     "data": {
      "image/png": "[encoded data removed]",
      "text/plain": [
       "<Figure size 1000x600 with 1 Axes>"
      ]
     },
     "metadata": {},
     "output_type": "display_data"
    }
   ],
   "source": [
    "row_counts_dict = {}\n",
    "\n",
    "# Read each CSV and count the rows\n",
    "for file in files:\n",
    "    try:\n",
    "        # Read the CSV file\n",
    "        df = pd.read_csv(file)\n",
    "        \n",
    "        # Count the number of rows\n",
    "        row_count = len(df)\n",
    "        \n",
    "        # Store row count in the dictionary\n",
    "        row_counts_dict[file] = row_count\n",
    "    except Exception as e:\n",
    "        print(f\"Error processing {file}: {e}\")\n",
    "\n",
    "# Convert row_counts_dict to a DataFrame for plotting\n",
    "row_counts_df = pd.DataFrame(list(row_counts_dict.items()), columns=['File', 'Row Count'])\n",
    "\n",
    "# Print the row counts DataFrame\n",
    "print(row_counts_df)\n",
    "\n",
    "# Plot the row counts\n",
    "fig, ax = plt.subplots(figsize=(10, 6))\n",
    "\n",
    "# Plotting the row counts\n",
    "row_counts_df.plot(kind='bar', x='File', y='Row Count', ax=ax, color='skyblue', legend=False)\n",
    "plt.title('Row Count Comparison Across CSV Files')\n",
    "plt.xlabel('File')\n",
    "plt.ylabel('Row Count')\n",
    "plt.xticks(rotation=45, ha='right')\n",
    "plt.grid(axis='y', linestyle='--', alpha=0.7)\n",
    "\n",
    "# Adjust layout to fit labels\n",
    "plt.tight_layout()\n",
    "\n",
    "# Show the plot\n",
    "plt.show()\n"
   ]
  },
  {
   "cell_type": "code",
   "execution_count": 94,
   "metadata": {},
   "outputs": [
    {
     "name": "stdout",
     "output_type": "stream",
     "text": [
      "Shape of recipe data: (1847, 5)\n"
     ]
    }
   ],
   "source": [
    "#some more processing, dropping columns in hindi, copied from a notebook in kaggle\n",
    "#df_indoRecipes = df_indoRecipes['TranslatedIngredients']\n",
    "def isEnglish(s):\n",
    "    try:\n",
    "        s.encode(encoding='utf-8').decode('ascii')\n",
    "    except UnicodeDecodeError:\n",
    "        return False\n",
    "    else:\n",
    "        return True\n",
    "    \n",
    "#create boolean mask\n",
    "mask = df_indoRecipes['Ingredients'].apply(isEnglish)\n",
    "df_indoRecipes = df_indoRecipes[mask].dropna()\n",
    "\n",
    "print(\"Shape of recipe data:\",df_indoRecipes.shape)"
   ]
  },
  {
   "cell_type": "code",
   "execution_count": 95,
   "metadata": {},
   "outputs": [],
   "source": [
    "#more preprocessing on the text fields\n",
    "df_indoRecipes['Ingredients'] = df_indoRecipes['Ingredients'].apply(lambda x: x.lower())\n",
    "\n",
    "total_ingredients = []\n",
    "all_receipes_ingredients =  []\n",
    "for i in range(len(df_indoRecipes)):\n",
    "    all_ingredients = list()\n",
    "    #split each recipe into different ingredients\n",
    "    try:\n",
    "        ingred = df_indoRecipes.loc[i, \"Ingredients\"][1:-1]\n",
    "    except:\n",
    "        continue;\n",
    "      \n",
    "    for ing in (ingred.split(',')):\n",
    "        ing = remove_stopwords(ing)\n",
    "        ing = strip_numeric(ing)\n",
    "        ing = re.sub(r'\\(.*oz.\\)|(®)|(.*ed)|(.*ly)|tast|sprig|inch|purpose|flmy|taste|boneless|skinless|chunks|fresh|large|cook drain|green|frozen|ground|tablespoon|teaspoon|cup','',ing).strip()\n",
    "        ing = strip_short(ing,2)\n",
    "        ing = strip_multiple_whitespaces(ing)\n",
    "        ing = strip_punctuation(ing)\n",
    "        ing = strip_non_alphanum(ing)\n",
    "        \n",
    "        #convert plurals to singular e.g. tomatoes --> tomato\n",
    "        # ing = (\" \".join(TextBlob(ing).words.singularize()))\n",
    "        if len(ing)>0:\n",
    "            all_ingredients.append(ing)\n",
    "            total_ingredients.append(ing)\n",
    "    all_receipes_ingredients.append(all_ingredients)\n",
    "counts_ingr = collections.Counter(total_ingredients)\n",
    "all_receipes_ingredients.append(all_ingredients)"
   ]
  },
  {
   "cell_type": "code",
   "execution_count": 96,
   "metadata": {},
   "outputs": [
    {
     "name": "stdout",
     "output_type": "stream",
     "text": [
      "---- Most Common Ingredients ----\n",
      "[('gula', 60), ('garam', 52), ('gr udang', 45), ('ap rasa ', 33), ('ap ', 29), ('udang', 27), ('iris  siung bawang putih', 25), ('ang', 23), ('ikit air ', 22), ('kupas', 15), ('ri', 13), ('garam ', 11), ('lada', 11), ('iris tipis  siung bawang putih', 10), ('bersihkan', 10), ('buang kepala', 10), ('merica', 10), ('gram udang', 9), ('gula ', 8), ('ap', 8), ('cuci', 8), ('merica ', 7), ('ap rasa', 7), ('gula pasir', 7), ('iris  siung bawang merah', 6)]\n",
      "\n",
      "\n",
      "---- Least Common Ingredients ----\n",
      "[('dang tempe pete bawang merah bawang putih cabai merah tomat secukupnya gula dan garam ', 1), ('cuci tiriskn  bgks tepung serbaguna  sdm terigu minyak untuk menggoreng secukupnya air ', 1), ('ri garam gula merica ', 1), ('ap rasa garam dan gula secukup nya minyak goreng ', 1), ('gram udang  buah jagung  buah bawang daun  siung bawang putih  siung bawang merah tepung terigu kunyit air sesuai selera gula', 1), ('ap minyak untuk menggoreng ', 1), ('gr udang kupas  bh anak jagung pot serong  ons petai  ons cabe merah bawang merah ulek  bh tomat iris  btg daun bawang iris garam', 1), ('ap jamur ', 1), ('udang kecil ngga trllu kecil ya  buah tahu  butir bawang putih  butir bawang merah  biji cabe merah  biji cabe rawit opsional  ruas kunyit  lembar daun jeruk  buah asem jawa gula garam micin royco ayam kecap ', 1), ('ang  siung bawang merah  siung bawang putih  buah cabe merah  buah cabe rawit  ruas jahe  ruas kunyit  ruas lengkuas  batang sereh  buah tomat merah  lembar daun jeruk  lembar daun salam secukupnya gula dan garam minyak untuk menumis secukupnya air ', 1)]\n",
      "type counts ingr <class 'collections.Counter'>\n"
     ]
    },
    {
     "data": {
      "text/plain": [
       "<Axes: ylabel='word'>"
      ]
     },
     "execution_count": 96,
     "metadata": {},
     "output_type": "execute_result"
    },
    {
     "data": {
      "image/png": "[encoded data removed]",
      "text/plain": [
       "<Figure size 640x480 with 1 Axes>"
      ]
     },
     "metadata": {},
     "output_type": "display_data"
    }
   ],
   "source": [
    "#find the most common ingredients used across all recipes\n",
    "print (\"---- Most Common Ingredients ----\")\n",
    "print (counts_ingr.most_common(25))\n",
    "\n",
    "print (\"\\n\")\n",
    "#find the most common ingredients used across all recipes\n",
    "print (\"---- Least Common Ingredients ----\")\n",
    "print (counts_ingr.most_common()[-10:])\n",
    "print(\"type counts ingr\",type(counts_ingr))\n",
    "\n",
    "most_common = counts_ingr.most_common(25)\n",
    "mc = pd.DataFrame(most_common, columns=['word', 'frequency'])\n",
    "\n",
    "#print(\"\\nMost common:\\n\", mc)\n",
    "mc.plot(kind='barh', x='word', align='center', color='turquoise')"
   ]
  },
  {
   "cell_type": "code",
   "execution_count": 97,
   "metadata": {},
   "outputs": [
    {
     "name": "stdout",
     "output_type": "stream",
     "text": [
      "len 1807\n"
     ]
    }
   ],
   "source": [
    "#convert to lower case\n",
    "df_indoRecipes['Steps'] = df_indoRecipes['Steps'].apply(lambda x: x.lower())\n",
    "\n",
    "#total_ingredients = []\n",
    "all_instructions =  []\n",
    "\n",
    "#len(df_indoRecipes)\n",
    "for i in range(len(df_indoRecipes)):\n",
    "    #split each recipe into different ingredients\n",
    "    try:\n",
    "        instrs = df_indoRecipes.loc[i, \"Ingredients\"][1:-1]\n",
    "        #print(\"instrs\\n\",instrs)\n",
    "    except:\n",
    "        continue;      \n",
    "    for instr in (instrs.split('.')):\n",
    "        instr = remove_stopwords(instr)\n",
    "        instr = strip_numeric(instr)\n",
    "        #instr = re.sub(r'\\(.*oz.\\)|(®)|(.*ed)|(.*ly)|tast|sprig|inch|purpose|flmy|taste|boneless|skinless|chunks|fresh|large|cook drain|green|frozen|ground|tablespoon|teaspoon|cup','',ing).strip()\n",
    "        instr = strip_short(instr,2)\n",
    "        instr = strip_multiple_whitespaces(instr)\n",
    "        instr = strip_punctuation(instr)\n",
    "        instr = strip_non_alphanum(instr)\n",
    "        #convert plurals to singular e.g. tomatoes --> tomato\n",
    "        # instr = (\" \".join(TextBlob(instr).words.singularize()))\n",
    "        if len(instr)>0:\n",
    "            all_instructions.append(instr)\n",
    "\n",
    "print(\"len\",len(all_instructions))\n",
    "\n",
    "#formatting the column in a way the gensim takes it\n",
    "all_instructions_splitted = [sentx.split() for sentx in all_instructions]\n",
    "df_indoRecipes.to_pickle(\"processed/df_indoRecipes.pkl\")"
   ]
  },
  {
   "cell_type": "code",
   "execution_count": 98,
   "metadata": {},
   "outputs": [
    {
     "data": {
      "text/plain": [
       "0       campur ayam & udang dengan semua bumbu & daun ...\n",
       "1       campur semua bahan dalam food processor, kecua...\n",
       "2       buang kepala dan cangkang udang.--cuci bersih ...\n",
       "4       cuci bersih udang, tambahkan jeruk nipis supay...\n",
       "7       cuci udang bersih, lumuri dengan jeruk nipis--...\n",
       "                              ...                        \n",
       "1699    kupas udang, sisihkan kepala nya. kepala nya d...\n",
       "1700    bersihkan udang, belah bagian atasnya, lumuri ...\n",
       "1701    siap kan semua bahan, potong dan cuci bersih. ...\n",
       "1702    panaskan wajan, tuang minyak tunggu hingga pan...\n",
       "1703    panaskan minyak setelah panas masukan bumbu ha...\n",
       "Name: clean_instructions, Length: 1568, dtype: object"
      ]
     },
     "execution_count": 98,
     "metadata": {},
     "output_type": "execute_result"
    }
   ],
   "source": [
    "#record the number of ingredients for each recipe, \n",
    "#add cleaned instructions for training recipe embeddings\n",
    "#add cleaned ingredients back to original dataframe\n",
    "df_indoRecipes['clean_ingredients'] = pd.Series(all_receipes_ingredients)\n",
    "df_indoRecipes = df_indoRecipes.dropna()\n",
    "df_indoRecipes['ingredient_count'] =  df_indoRecipes.apply(lambda row: len(row['clean_ingredients']), axis = 1)\n",
    "df_indoRecipes['clean_instructions'] = df_indoRecipes['Steps'].apply(lambda x: x.lower())\n",
    "df_indoRecipes['clean_instructions']"
   ]
  },
  {
   "cell_type": "code",
   "execution_count": 99,
   "metadata": {},
   "outputs": [],
   "source": [
    "df_indoRecipes.to_pickle(\"processed/df_indoRecipes.pkl\")"
   ]
  },
  {
   "cell_type": "code",
   "execution_count": 100,
   "metadata": {},
   "outputs": [
    {
     "data": {
      "text/plain": [
       "[['bersihkan', 'udang', 'iris', 'bawang', 'merah'],\n",
       " ['bawang',\n",
       "  'putih',\n",
       "  'dan',\n",
       "  'bawang',\n",
       "  'bombai',\n",
       "  'menjadi',\n",
       "  'bagian',\n",
       "  'yang',\n",
       "  'kecil',\n",
       "  'dan',\n",
       "  'tipis',\n",
       "  'siapkan',\n",
       "  'wajan',\n",
       "  'teflon'],\n",
       " ['nyalakan', 'api', 'kecil'],\n",
       " ['kemudian',\n",
       "  'masukan',\n",
       "  'mentega',\n",
       "  'hingga',\n",
       "  'leleh',\n",
       "  'dan',\n",
       "  'panas',\n",
       "  'tumis',\n",
       "  'bawang',\n",
       "  'merah',\n",
       "  'dan',\n",
       "  'bawang',\n",
       "  'putih',\n",
       "  'sebentar',\n",
       "  'saja',\n",
       "  'sekitar',\n",
       "  'menit',\n",
       "  'lalu',\n",
       "  'masukan',\n",
       "  'bawang',\n",
       "  'bombai',\n",
       "  'tumis',\n",
       "  'lagi',\n",
       "  'hingga',\n",
       "  'harum',\n",
       "  'masukkan',\n",
       "  'udang'],\n",
       " ['garam'],\n",
       " ['saus', 'tiram'],\n",
       " ['as',\n",
       "  'dan',\n",
       "  'saus',\n",
       "  'tomat',\n",
       "  'aduk',\n",
       "  'hingga',\n",
       "  'rata',\n",
       "  'jika',\n",
       "  'sudah',\n",
       "  'matang'],\n",
       " ['angkat', 'dan', 'sajikan']]"
      ]
     },
     "execution_count": 100,
     "metadata": {},
     "output_type": "execute_result"
    }
   ],
   "source": [
    "#function to process the column 'recipe' to the format of list-of-lists\n",
    "import re\n",
    "from gensim.parsing.preprocessing import remove_stopwords, strip_punctuation, strip_numeric, strip_non_alphanum, strip_multiple_whitespaces, strip_short\n",
    "\n",
    "def process_recipe(recipe):\n",
    "    recipeProcessed = []\n",
    "    for ing in (recipe.split(',')):\n",
    "        ing = remove_stopwords(ing)\n",
    "        ing = strip_numeric(ing)\n",
    "        ing = re.sub(r'\\(.*oz.\\)|(®)|(.*ed)|(.*ly)|tast|sprig|inch|purpose|flmy|taste|boneless|skinless|chunks|fresh|large|cook drain|green|frozen|ground|tablespoon|teaspoon|recipe|cup','',ing).strip()\n",
    "        ing = strip_short(ing,2)\n",
    "        ing = strip_multiple_whitespaces(ing)\n",
    "        ing = strip_punctuation(ing)\n",
    "        ing = strip_non_alphanum(ing)\n",
    "        if ing:\n",
    "            #print(\"ing\",ing)\n",
    "            recipeProcessed.append(ing)\n",
    "    #print(\"recipeProcessed\",len(recipeProcessed),recipeProcessed)\n",
    "    return [oneInstr.split() for oneInstr in recipeProcessed]\n",
    "\n",
    "process_recipe(df_indoRecipes['clean_instructions'][11])"
   ]
  },
  {
   "cell_type": "code",
   "execution_count": 101,
   "metadata": {},
   "outputs": [
    {
     "name": "stdout",
     "output_type": "stream",
     "text": [
      "[['campur', 'semua', 'bahan', 'dalam', 'food', 'processor'], ['kecuali', 'daun', 'bawang', 'dan', 'minyak', 'goreng', 'tuang', 'dalam', 'baskom', 'lalu', 'taburi', 'daun', 'bawang', 'dan', 'minyak', 'goreng'], ['ang', 'bulatkan', 'adonan', 'dengan', 'menggunakan', 'dua', 'sendok', 'lalu', 'goreng', 'sampai', 'matang', 'adonan', 'akan', 'mengembang', 'saat', 'di', 'wajan'], ['tapi', 'kembali', 'kempes', 'stelah', 'diangkat']]\n"
     ]
    }
   ],
   "source": [
    "#adding clean instructions\n",
    "df_indoRecipes['clean_instructions'] = df_indoRecipes['clean_instructions'].apply(lambda x:process_recipe(x))\n",
    "print(df_indoRecipes['clean_instructions'][1])"
   ]
  },
  {
   "cell_type": "code",
   "execution_count": 102,
   "metadata": {},
   "outputs": [
    {
     "name": "stdout",
     "output_type": "stream",
     "text": [
      "[['campur', 'ayam', 'udang', 'dengan', 'semua', 'bumbu', 'daun', 'bawang', 'aduk', 'rata', 'sesudah', 'rata', 'masukkan', 'tepung', 'sagu', 'terigu', 'putih', 'telur', 'aduk', 'rata', 'isikan', 'ke', 'lembaran', 'kulit', 'kembang', 'tahu', 'lipat', 'seperti', 'melipat', 'lumpia', 'sambil', 'dipadatkan', 'agar', 'rapi', 'bentuk', 'agak', 'pipih', 'jangan', 'terlalu', 'bulat', 'olesi', 'putih', 'telur', 'diujung', 'lipatan', 'agar', 'merekat', 'rapat', 'kukus', 'sekitar', 'menit', 'hingga', 'matang', 'angkat', 'dinginkan', 'siap', 'digoreng', 'dengan', 'api', 'kecil', 'sebentar', 'anakku', 'suka', 'digoreng', 'agak', 'lama', 'dengan', 'kuning', 'telur', 'kocok', 'sisa', 'adonan', 'tadi', 'nanti', 'jadi', 'ada', 'kayak', 'jala', 'crispynya', 'yang', 'gurih', 'kering', 'angkat', 'tiriskan', 'jika', 'sudah', 'digoreng', 'matang', 'sajikan', 'dengan', 'dipotong', 'diagonal', 'potong', 'serong', 'siap', 'disantap', 'dengan', 'saus', 'sambal', 'botol', 'yang', 'biasanya', 'saya', 'rebus', 'dengan', 'bawang', 'goreng', 'cabe', 'rawit', 'iris', 'ikit', 'air', 'selamat', 'mencoba'], ['campur', 'semua', 'bahan', 'dalam', 'food', 'processor', 'kecuali', 'daun', 'bawang', 'dan', 'minyak', 'goreng', 'tuang', 'dalam', 'baskom', 'lalu', 'taburi', 'daun', 'bawang', 'dan', 'minyak', 'goreng', 'ang', 'bulatkan', 'adonan', 'dengan', 'menggunakan', 'dua', 'sendok', 'lalu', 'goreng', 'sampai', 'matang', 'adonan', 'akan', 'mengembang', 'saat', 'di', 'wajan', 'tapi', 'kembali', 'kempes', 'stelah', 'diangkat'], ['buang', 'kepala', 'dan', 'cangkang', 'udang', 'cuci', 'bersih', 'udang', 'tepung', 'bumbu', 'dibagi', 'jadi', 'adonan', 'adonan', 'basah', 'dan', 'adonan', 'kering', 'masukkan', 'udang', 'ke', 'dalam', 'adonan', 'tepung', 'bumbu', 'kering', 'gulirkan', 'ke', 'dlm', 'tepung', 'sambil', 'ditekan', 'lalu', 'masukkan', 'ke', 'dalam', 'tepung', 'bumbu', 'adonan', 'basah', 'gulirkan', 'lagi', 'sambil', 'di', 'tekan', 'lalu', 'masukkan', 'lagi', 'di', 'adonan', 'tepung', 'bumbu', 'kering', 'sambil', 'ditekan', 'agar', 'tepung', 'menempel', 'sempurna', 'panaskan', 'minyak', 'goreng', 'lalu', 'goreng', 'udang', 'sampai', 'kuning', 'keemasan', 'angkat', 'dan', 'tiriskan', 'sajikan', 'selagi', 'hangat']]\n"
     ]
    }
   ],
   "source": [
    "# Menggabungkan instruksi yang terpecah menjadi satu list per resep\n",
    "all_Sentences = []\n",
    "for instructions in df_indoRecipes['clean_instructions']:\n",
    "    # Gabungkan semua bagian instruksi dari setiap resep\n",
    "    combined_instructions = [word for sentence in instructions for word in sentence]\n",
    "    all_Sentences.append(combined_instructions)\n",
    "\n",
    "# Periksa contoh hasilnya\n",
    "print(all_Sentences[:3])  # Menampilkan 3 resep pertama yang sudah digabungkan\n"
   ]
  },
  {
   "cell_type": "code",
   "execution_count": 103,
   "metadata": {},
   "outputs": [
    {
     "name": "stdout",
     "output_type": "stream",
     "text": [
      "<class 'list'>\n",
      "<class 'list'>\n",
      "['buang', 'kepala', 'dan', 'cangkang', 'udang', 'cuci', 'bersih', 'udang', 'tepung', 'bumbu', 'dibagi', 'jadi', 'adonan', 'adonan', 'basah', 'dan', 'adonan', 'kering', 'masukkan', 'udang', 'ke', 'dalam', 'adonan', 'tepung', 'bumbu', 'kering', 'gulirkan', 'ke', 'dlm', 'tepung', 'sambil', 'ditekan', 'lalu', 'masukkan', 'ke', 'dalam', 'tepung', 'bumbu', 'adonan', 'basah', 'gulirkan', 'lagi', 'sambil', 'di', 'tekan', 'lalu', 'masukkan', 'lagi', 'di', 'adonan', 'tepung', 'bumbu', 'kering', 'sambil', 'ditekan', 'agar', 'tepung', 'menempel', 'sempurna', 'panaskan', 'minyak', 'goreng', 'lalu', 'goreng', 'udang', 'sampai', 'kuning', 'keemasan', 'angkat', 'dan', 'tiriskan', 'sajikan', 'selagi', 'hangat']\n"
     ]
    }
   ],
   "source": [
    "all_Sentences = []\n",
    "for instructions in df_indoRecipes['clean_instructions']:\n",
    "    # Gabungkan semua bagian instruksi dari setiap resep\n",
    "    combined_instructions = [word for sentence in instructions for word in sentence]\n",
    "    all_Sentences.append(combined_instructions)\n",
    "\n",
    "# Cek apakah all_Sentences adalah list of lists\n",
    "print(type(all_Sentences))  # Seharusnya <class 'list'>\n",
    "print(type(all_Sentences[1]))  # Seharusnya <class 'list'>\n",
    "print(all_Sentences[2])"
   ]
  },
  {
   "cell_type": "markdown",
   "metadata": {},
   "source": [
    "# recipe embeddings using gensim"
   ]
  },
  {
   "cell_type": "code",
   "execution_count": 104,
   "metadata": {},
   "outputs": [
    {
     "name": "stdout",
     "output_type": "stream",
     "text": [
      "4.3.3\n"
     ]
    }
   ],
   "source": [
    "import gensim\n",
    "print(gensim.__version__)"
   ]
  },
  {
   "cell_type": "code",
   "execution_count": 105,
   "metadata": {},
   "outputs": [
    {
     "name": "stdout",
     "output_type": "stream",
     "text": [
      "Jumlah kalimat dalam all_Sentences: 1568\n",
      "Mulai training...\n",
      "Menyimpan model...\n",
      "Model tersimpan.\n"
     ]
    }
   ],
   "source": [
    "from gensim.models import FastText\n",
    "\n",
    "# Inisialisasi model FastText\n",
    "model_indofood_fasttext = FastText(vector_size=100, window=5, min_count=5, workers=4, sg=1)\n",
    "\n",
    "# Bangun vocab dari data\n",
    "print(f\"Jumlah kalimat dalam all_Sentences: {len(all_Sentences)}\")\n",
    "model_indofood_fasttext.build_vocab(corpus_iterable=all_Sentences)\n",
    "\n",
    "# Latih model\n",
    "print(\"Mulai training...\")\n",
    "model_indofood_fasttext.train(corpus_iterable=all_Sentences, total_examples=len(all_Sentences), epochs=5)\n",
    "\n",
    "# Simpan model\n",
    "print(\"Menyimpan model...\")\n",
    "model_indofood_fasttext.save(\"models/model_indofood_fasttext.model\")\n",
    "print(\"Model tersimpan.\")\n"
   ]
  },
  {
   "cell_type": "code",
   "execution_count": 106,
   "metadata": {},
   "outputs": [
    {
     "name": "stdout",
     "output_type": "stream",
     "text": [
      "85946 words in Recipe based model Corpus!\n"
     ]
    },
    {
     "data": {
      "text/plain": [
       "[('parut', 0.9342042803764343),\n",
       " ('bayam', 0.9332168698310852),\n",
       " ('powder', 0.903688907623291),\n",
       " ('butir', 0.8978109359741211),\n",
       " ('kanji', 0.8950783014297485),\n",
       " ('ketumbar', 0.8919031620025635),\n",
       " ('sdt', 0.8860217332839966),\n",
       " ('kelapa', 0.8856028914451599),\n",
       " ('secara', 0.8846874833106995),\n",
       " ('sejumput', 0.8833997249603271)]"
      ]
     },
     "execution_count": 106,
     "metadata": {},
     "output_type": "execute_result"
    }
   ],
   "source": [
    "#model_indianfood_fasttext.save(\"models/model_indianfood_fasttext.model\")\n",
    "total_words1 = model_indofood_fasttext.corpus_total_words\n",
    "print(total_words1,\"words in Recipe based model Corpus!\")\n",
    "\n",
    "model_indofood_fasttext.wv.most_similar(\"ayam\")"
   ]
  },
  {
   "cell_type": "code",
   "execution_count": 107,
   "metadata": {},
   "outputs": [
    {
     "data": {
      "text/plain": [
       "[('masako', 0.9831702709197998),\n",
       " ('madu', 0.9561579823493958),\n",
       " ('hampir', 0.9508002400398254),\n",
       " ('toge', 0.9457502365112305),\n",
       " ('oregano', 0.9421865940093994),\n",
       " ('tggu', 0.934999942779541),\n",
       " ('tauco', 0.9345489740371704),\n",
       " ('susut', 0.9340965151786804),\n",
       " ('pelan', 0.9327778816223145),\n",
       " ('tambhkan', 0.9321441650390625)]"
      ]
     },
     "execution_count": 107,
     "metadata": {},
     "output_type": "execute_result"
    }
   ],
   "source": [
    "model_indofood_fasttext.wv.most_similar(\"masak ayam\")"
   ]
  },
  {
   "cell_type": "code",
   "execution_count": 108,
   "metadata": {},
   "outputs": [
    {
     "data": {
      "text/plain": [
       "[('ganti', 0.972353458404541),\n",
       " ('membuat', 0.9661018252372742),\n",
       " ('resep', 0.961198627948761),\n",
       " ('bakar', 0.9576942920684814),\n",
       " ('hasil', 0.9576921463012695),\n",
       " ('gigi', 0.9545421600341797),\n",
       " ('ibu', 0.9539898633956909),\n",
       " ('bs', 0.9538554549217224),\n",
       " ('kain', 0.951765239238739),\n",
       " ('stok', 0.9514472484588623)]"
      ]
     },
     "execution_count": 108,
     "metadata": {},
     "output_type": "execute_result"
    }
   ],
   "source": [
    "model_indofood_fasttext.wv.most_similar(\"ayam bakar\")"
   ]
  },
  {
   "cell_type": "code",
   "execution_count": 109,
   "metadata": {},
   "outputs": [],
   "source": [
    "#defined functions to get to embeddings for recipes\n",
    "def getSentenceEmbedding(sentence):\n",
    "    countFound = 0\n",
    "    embeddingList = []\n",
    "    for wordx in sentence:\n",
    "        try:\n",
    "            vector1 = model_indofood_fasttext.wv[wordx]\n",
    "            #print(\"word\",wordx, vector1[:3])\n",
    "            embeddingList.append(vector1)\n",
    "            countFound+=1\n",
    "        except:\n",
    "            continue;\n",
    "    sumEmbeddings = sum(embeddingList)\n",
    "    return np.true_divide(sumEmbeddings, countFound)  \n",
    "\n",
    "def getRecipeEmbedding(instruction):\n",
    "    embeddingList = []\n",
    "    for sentence in instruction:\n",
    "        embeddingList.append(getSentenceEmbedding(sentence))\n",
    "    sumEmbeddings = sum(embeddingList)\n",
    "    return np.true_divide(sumEmbeddings, len(instruction))  "
   ]
  },
  {
   "cell_type": "code",
   "execution_count": 110,
   "metadata": {},
   "outputs": [
    {
     "name": "stderr",
     "output_type": "stream",
     "text": [
      "/var/folders/47/p1nz1hvx16xb5gzw123rjhs00000gn/T/ipykernel_28377/939707801.py:14: RuntimeWarning: invalid value encountered in divide\n",
      "  return np.true_divide(sumEmbeddings, countFound)\n"
     ]
    }
   ],
   "source": [
    "df_indoRecipes['recipe_embedding_fasttext'] =  df_indoRecipes.apply(lambda row: getRecipeEmbedding(row['clean_instructions']), axis = 1)"
   ]
  },
  {
   "cell_type": "code",
   "execution_count": 111,
   "metadata": {},
   "outputs": [
    {
     "data": {
      "text/html": [
       "<div>\n",
       "<style scoped>\n",
       "    .dataframe tbody tr th:only-of-type {\n",
       "        vertical-align: middle;\n",
       "    }\n",
       "\n",
       "    .dataframe tbody tr th {\n",
       "        vertical-align: top;\n",
       "    }\n",
       "\n",
       "    .dataframe thead th {\n",
       "        text-align: right;\n",
       "    }\n",
       "</style>\n",
       "<table border=\"1\" class=\"dataframe\">\n",
       "  <thead>\n",
       "    <tr style=\"text-align: right;\">\n",
       "      <th></th>\n",
       "      <th>Title</th>\n",
       "      <th>Ingredients</th>\n",
       "      <th>Steps</th>\n",
       "      <th>Loves</th>\n",
       "      <th>Loves_bin</th>\n",
       "      <th>clean_ingredients</th>\n",
       "      <th>ingredient_count</th>\n",
       "      <th>clean_instructions</th>\n",
       "      <th>recipe_embedding_fasttext</th>\n",
       "    </tr>\n",
       "  </thead>\n",
       "  <tbody>\n",
       "    <tr>\n",
       "      <th>0</th>\n",
       "      <td>Lumpia udang kulit tahu ala fe'</td>\n",
       "      <td>50 gram ayam potong kotak kecil--200 gram udan...</td>\n",
       "      <td>campur ayam &amp; udang dengan semua bumbu &amp; daun ...</td>\n",
       "      <td>4</td>\n",
       "      <td>0-10</td>\n",
       "      <td>[gram ayam potong kotak kecil  gram udang besa...</td>\n",
       "      <td>2</td>\n",
       "      <td>[[campur, ayam, udang, dengan, semua, bumbu, d...</td>\n",
       "      <td>[0.04220629, -0.17580448, -0.036855042, -0.092...</td>\n",
       "    </tr>\n",
       "    <tr>\n",
       "      <th>1</th>\n",
       "      <td>Bakso Ayam Udang Keto</td>\n",
       "      <td>400 gr ayam giling--250 gr udang kupas--3 telu...</td>\n",
       "      <td>campur semua bahan dalam food processor, kecua...</td>\n",
       "      <td>2</td>\n",
       "      <td>0-10</td>\n",
       "      <td>[gr ayam giling  gr udang kupas  telur ayam ut...</td>\n",
       "      <td>2</td>\n",
       "      <td>[[campur, semua, bahan, dalam, food, processor...</td>\n",
       "      <td>[0.08354704, -0.1697976, -0.09361218, -0.02692...</td>\n",
       "    </tr>\n",
       "    <tr>\n",
       "      <th>2</th>\n",
       "      <td>Udang ala pop corn</td>\n",
       "      <td>1/4 kg udang basah ukuran sedang--1 bungkus ko...</td>\n",
       "      <td>buang kepala dan cangkang udang.--cuci bersih ...</td>\n",
       "      <td>2</td>\n",
       "      <td>0-10</td>\n",
       "      <td>[ang  bungkus kobe tepung ayam super crispy se...</td>\n",
       "      <td>1</td>\n",
       "      <td>[[buang, kepala, dan, cangkang, udang, cuci, b...</td>\n",
       "      <td>[0.1136707, -0.17281604, -0.12029305, 0.054842...</td>\n",
       "    </tr>\n",
       "    <tr>\n",
       "      <th>4</th>\n",
       "      <td>Udang Goreng Tepung Mayonaise</td>\n",
       "      <td>300 gr udang (buang kepalanya)--jeruk nipis--t...</td>\n",
       "      <td>cuci bersih udang, tambahkan jeruk nipis supay...</td>\n",
       "      <td>6</td>\n",
       "      <td>0-10</td>\n",
       "      <td>[ap rasa daun jeruk bumbu dihaluskan  siung ba...</td>\n",
       "      <td>1</td>\n",
       "      <td>[[cuci, bersih, udang], [alam, adonan, cair, t...</td>\n",
       "      <td>[0.0755907, -0.21281813, -0.041293688, -0.0729...</td>\n",
       "    </tr>\n",
       "    <tr>\n",
       "      <th>7</th>\n",
       "      <td>Sambal udang goreng</td>\n",
       "      <td>1/4 kg udang--2 buah jeruk nipis--minyak goren...</td>\n",
       "      <td>cuci udang bersih, lumuri dengan jeruk nipis--...</td>\n",
       "      <td>7</td>\n",
       "      <td>0-10</td>\n",
       "      <td>[gr udang secukupnya jahe memarkan secukupnya ...</td>\n",
       "      <td>1</td>\n",
       "      <td>[[cuci, udang, bersih], [lumuri, dengan, jeruk...</td>\n",
       "      <td>[-0.018232431, -0.28495473, 0.0048255175, -0.0...</td>\n",
       "    </tr>\n",
       "  </tbody>\n",
       "</table>\n",
       "</div>"
      ],
      "text/plain": [
       "                             Title  \\\n",
       "0  Lumpia udang kulit tahu ala fe'   \n",
       "1            Bakso Ayam Udang Keto   \n",
       "2               Udang ala pop corn   \n",
       "4    Udang Goreng Tepung Mayonaise   \n",
       "7              Sambal udang goreng   \n",
       "\n",
       "                                         Ingredients  \\\n",
       "0  50 gram ayam potong kotak kecil--200 gram udan...   \n",
       "1  400 gr ayam giling--250 gr udang kupas--3 telu...   \n",
       "2  1/4 kg udang basah ukuran sedang--1 bungkus ko...   \n",
       "4  300 gr udang (buang kepalanya)--jeruk nipis--t...   \n",
       "7  1/4 kg udang--2 buah jeruk nipis--minyak goren...   \n",
       "\n",
       "                                               Steps  Loves Loves_bin  \\\n",
       "0  campur ayam & udang dengan semua bumbu & daun ...      4      0-10   \n",
       "1  campur semua bahan dalam food processor, kecua...      2      0-10   \n",
       "2  buang kepala dan cangkang udang.--cuci bersih ...      2      0-10   \n",
       "4  cuci bersih udang, tambahkan jeruk nipis supay...      6      0-10   \n",
       "7  cuci udang bersih, lumuri dengan jeruk nipis--...      7      0-10   \n",
       "\n",
       "                                   clean_ingredients  ingredient_count  \\\n",
       "0  [gram ayam potong kotak kecil  gram udang besa...                 2   \n",
       "1  [gr ayam giling  gr udang kupas  telur ayam ut...                 2   \n",
       "2  [ang  bungkus kobe tepung ayam super crispy se...                 1   \n",
       "4  [ap rasa daun jeruk bumbu dihaluskan  siung ba...                 1   \n",
       "7  [gr udang secukupnya jahe memarkan secukupnya ...                 1   \n",
       "\n",
       "                                  clean_instructions  \\\n",
       "0  [[campur, ayam, udang, dengan, semua, bumbu, d...   \n",
       "1  [[campur, semua, bahan, dalam, food, processor...   \n",
       "2  [[buang, kepala, dan, cangkang, udang, cuci, b...   \n",
       "4  [[cuci, bersih, udang], [alam, adonan, cair, t...   \n",
       "7  [[cuci, udang, bersih], [lumuri, dengan, jeruk...   \n",
       "\n",
       "                           recipe_embedding_fasttext  \n",
       "0  [0.04220629, -0.17580448, -0.036855042, -0.092...  \n",
       "1  [0.08354704, -0.1697976, -0.09361218, -0.02692...  \n",
       "2  [0.1136707, -0.17281604, -0.12029305, 0.054842...  \n",
       "4  [0.0755907, -0.21281813, -0.041293688, -0.0729...  \n",
       "7  [-0.018232431, -0.28495473, 0.0048255175, -0.0...  "
      ]
     },
     "execution_count": 111,
     "metadata": {},
     "output_type": "execute_result"
    }
   ],
   "source": [
    "#checking out the new column\n",
    "df_indoRecipes.to_pickle('processed/df_indoRecipes.pkl')\n",
    "df_indoRecipes.head()"
   ]
  },
  {
   "cell_type": "code",
   "execution_count": 112,
   "metadata": {},
   "outputs": [],
   "source": [
    "#finding similar food-items using trained embeddings only\n",
    "\n",
    "from numpy import dot\n",
    "from numpy.linalg import norm\n",
    "\n",
    "def find_Similar_dish(xx,embeddingToUse):\n",
    "    #recipe_embedding_fasttext\n",
    "\n",
    "    a = df_indoRecipes.loc[xx, embeddingToUse]\n",
    "    orn = df_indoRecipes.loc[xx, \"Title\"]\n",
    "    #print(orn,\"\\nGetting most similar dishes based on\",embeddingToUse)\n",
    "    dishtances = {}\n",
    "    for i in range(len(df_indoRecipes)):\n",
    "        if i==xx:\n",
    "            continue;\n",
    "        try:\n",
    "            dn = df_indoRecipes.loc[i, \"Title\"]\n",
    "            b = df_indoRecipes.loc[i, embeddingToUse]\n",
    "            cos_sim = dot(a, b)/(norm(a)*norm(b))\n",
    "            if cos_sim not in dishtances.values():\n",
    "                dishtances[i] = cos_sim\n",
    "        except:\n",
    "            continue;\n",
    "            \n",
    "    dishtances_2 = {k: v for k, v in sorted(dishtances.items(), key=lambda item: item[1], reverse = True)}\n",
    "    mostSimilarDishes = []\n",
    "    countSim = 0\n",
    "    for el in dishtances_2.keys():\n",
    "        mostSimilarDishes.append(el)\n",
    "        countSim+=1\n",
    "        if countSim==10:\n",
    "            break;\n",
    "    return mostSimilarDishes\n",
    "\n",
    "def list_Similar_dishes(xx, embeddingToUse):\n",
    "    dn = df_indoRecipes.loc[xx, \"Title\"]\n",
    "    additionalColumns = ['Loves','Loves_bin']\n",
    "    similarList1 = find_Similar_dish(xx,embeddingToUse)\n",
    "    simResults1 = []\n",
    "\n",
    "    allSuggestedDishNames = []\n",
    "    print(\"got all similar dishes!\")\n",
    "    for simIndex in similarList1:\n",
    "        tempRes = []\n",
    "        dName = df_indoRecipes.loc[simIndex, \"Title\"]\n",
    "        dishName = \" \".join([w for w in dName.split() if w.lower()!='recipe'])\n",
    "        tempRes.append(dishName)\n",
    "        dishNameShort = \" \".join(dishName.split()[-2:])\n",
    "        allSuggestedDishNames.append(dishNameShort)\n",
    "        for col in additionalColumns:\n",
    "            tempRes.append(df_indoRecipes.loc[simIndex, col])\n",
    "        simResults1.append(tempRes)\n",
    "    \n",
    "    additionalColumns.insert(0,\"Dish\")\n",
    "    print(dn)\n",
    "    return(pd.DataFrame(simResults1, columns = additionalColumns),allSuggestedDishNames)"
   ]
  },
  {
   "cell_type": "code",
   "execution_count": 113,
   "metadata": {},
   "outputs": [
    {
     "name": "stdout",
     "output_type": "stream",
     "text": [
      "got all similar dishes!\n",
      "Udang Goreng Mentega\n"
     ]
    },
    {
     "data": {
      "text/html": [
       "<div>\n",
       "<style scoped>\n",
       "    .dataframe tbody tr th:only-of-type {\n",
       "        vertical-align: middle;\n",
       "    }\n",
       "\n",
       "    .dataframe tbody tr th {\n",
       "        vertical-align: top;\n",
       "    }\n",
       "\n",
       "    .dataframe thead th {\n",
       "        text-align: right;\n",
       "    }\n",
       "</style>\n",
       "<table border=\"1\" class=\"dataframe\">\n",
       "  <thead>\n",
       "    <tr style=\"text-align: right;\">\n",
       "      <th></th>\n",
       "      <th>Dish</th>\n",
       "      <th>Loves</th>\n",
       "      <th>Loves_bin</th>\n",
       "    </tr>\n",
       "  </thead>\n",
       "  <tbody>\n",
       "    <tr>\n",
       "      <th>0</th>\n",
       "      <td>Udang asam manis oregano</td>\n",
       "      <td>3</td>\n",
       "      <td>0-10</td>\n",
       "    </tr>\n",
       "    <tr>\n",
       "      <th>1</th>\n",
       "      <td>Tumis Udang saos tiram pedas</td>\n",
       "      <td>46</td>\n",
       "      <td>41-50</td>\n",
       "    </tr>\n",
       "    <tr>\n",
       "      <th>2</th>\n",
       "      <td>Tumis Udang pete</td>\n",
       "      <td>6</td>\n",
       "      <td>0-10</td>\n",
       "    </tr>\n",
       "    <tr>\n",
       "      <th>3</th>\n",
       "      <td>Pare tumis udang enak</td>\n",
       "      <td>11</td>\n",
       "      <td>11-20</td>\n",
       "    </tr>\n",
       "    <tr>\n",
       "      <th>4</th>\n",
       "      <td>Udang saus asam manis</td>\n",
       "      <td>37</td>\n",
       "      <td>31-40</td>\n",
       "    </tr>\n",
       "    <tr>\n",
       "      <th>5</th>\n",
       "      <td>Udang Bakar Madu</td>\n",
       "      <td>23</td>\n",
       "      <td>21-30</td>\n",
       "    </tr>\n",
       "    <tr>\n",
       "      <th>6</th>\n",
       "      <td>Tumis udang kangkung</td>\n",
       "      <td>7</td>\n",
       "      <td>0-10</td>\n",
       "    </tr>\n",
       "    <tr>\n",
       "      <th>7</th>\n",
       "      <td>Tumis udang bumbu saus tiram</td>\n",
       "      <td>5</td>\n",
       "      <td>0-10</td>\n",
       "    </tr>\n",
       "    <tr>\n",
       "      <th>8</th>\n",
       "      <td>Udang Asam Manis Glowing</td>\n",
       "      <td>2</td>\n",
       "      <td>0-10</td>\n",
       "    </tr>\n",
       "    <tr>\n",
       "      <th>9</th>\n",
       "      <td>Udang Saos Tomat NC</td>\n",
       "      <td>6</td>\n",
       "      <td>0-10</td>\n",
       "    </tr>\n",
       "  </tbody>\n",
       "</table>\n",
       "</div>"
      ],
      "text/plain": [
       "                           Dish  Loves Loves_bin\n",
       "0      Udang asam manis oregano      3      0-10\n",
       "1  Tumis Udang saos tiram pedas     46     41-50\n",
       "2              Tumis Udang pete      6      0-10\n",
       "3         Pare tumis udang enak     11     11-20\n",
       "4         Udang saus asam manis     37     31-40\n",
       "5              Udang Bakar Madu     23     21-30\n",
       "6          Tumis udang kangkung      7      0-10\n",
       "7  Tumis udang bumbu saus tiram      5      0-10\n",
       "8      Udang Asam Manis Glowing      2      0-10\n",
       "9           Udang Saos Tomat NC      6      0-10"
      ]
     },
     "execution_count": 113,
     "metadata": {},
     "output_type": "execute_result"
    }
   ],
   "source": [
    "dishNumber = 311\n",
    "res = list_Similar_dishes(dishNumber, \"recipe_embedding_fasttext\")\n",
    "res[0]"
   ]
  },
  {
   "cell_type": "code",
   "execution_count": 114,
   "metadata": {},
   "outputs": [
    {
     "name": "stdout",
     "output_type": "stream",
     "text": [
      "got all similar dishes!\n",
      "Dadar Jagung Udang\n"
     ]
    },
    {
     "data": {
      "text/html": [
       "<div>\n",
       "<style scoped>\n",
       "    .dataframe tbody tr th:only-of-type {\n",
       "        vertical-align: middle;\n",
       "    }\n",
       "\n",
       "    .dataframe tbody tr th {\n",
       "        vertical-align: top;\n",
       "    }\n",
       "\n",
       "    .dataframe thead th {\n",
       "        text-align: right;\n",
       "    }\n",
       "</style>\n",
       "<table border=\"1\" class=\"dataframe\">\n",
       "  <thead>\n",
       "    <tr style=\"text-align: right;\">\n",
       "      <th></th>\n",
       "      <th>Dish</th>\n",
       "      <th>Loves</th>\n",
       "      <th>Loves_bin</th>\n",
       "    </tr>\n",
       "  </thead>\n",
       "  <tbody>\n",
       "    <tr>\n",
       "      <th>0</th>\n",
       "      <td>002 Rempeyek udang sederhana</td>\n",
       "      <td>4</td>\n",
       "      <td>0-10</td>\n",
       "    </tr>\n",
       "    <tr>\n",
       "      <th>1</th>\n",
       "      <td>Bakwan Udang Sederhana</td>\n",
       "      <td>6</td>\n",
       "      <td>0-10</td>\n",
       "    </tr>\n",
       "    <tr>\n",
       "      <th>2</th>\n",
       "      <td>Udang Goreng Tepung Mayonaise</td>\n",
       "      <td>6</td>\n",
       "      <td>0-10</td>\n",
       "    </tr>\n",
       "    <tr>\n",
       "      <th>3</th>\n",
       "      <td>Udang asam manis oregano</td>\n",
       "      <td>3</td>\n",
       "      <td>0-10</td>\n",
       "    </tr>\n",
       "    <tr>\n",
       "      <th>4</th>\n",
       "      <td>Udang asam manis</td>\n",
       "      <td>2</td>\n",
       "      <td>0-10</td>\n",
       "    </tr>\n",
       "    <tr>\n",
       "      <th>5</th>\n",
       "      <td>Tumis brokoli udang makaroni</td>\n",
       "      <td>8</td>\n",
       "      <td>0-10</td>\n",
       "    </tr>\n",
       "    <tr>\n",
       "      <th>6</th>\n",
       "      <td>Udang Bakar Madu</td>\n",
       "      <td>23</td>\n",
       "      <td>21-30</td>\n",
       "    </tr>\n",
       "    <tr>\n",
       "      <th>7</th>\n",
       "      <td>Udang Lombok Merah</td>\n",
       "      <td>5</td>\n",
       "      <td>0-10</td>\n",
       "    </tr>\n",
       "    <tr>\n",
       "      <th>8</th>\n",
       "      <td>Telur dadar mini isi udang</td>\n",
       "      <td>4</td>\n",
       "      <td>0-10</td>\n",
       "    </tr>\n",
       "    <tr>\n",
       "      <th>9</th>\n",
       "      <td>Martabak Mini Tahu Udang</td>\n",
       "      <td>6</td>\n",
       "      <td>0-10</td>\n",
       "    </tr>\n",
       "  </tbody>\n",
       "</table>\n",
       "</div>"
      ],
      "text/plain": [
       "                            Dish  Loves Loves_bin\n",
       "0   002 Rempeyek udang sederhana      4      0-10\n",
       "1         Bakwan Udang Sederhana      6      0-10\n",
       "2  Udang Goreng Tepung Mayonaise      6      0-10\n",
       "3       Udang asam manis oregano      3      0-10\n",
       "4               Udang asam manis      2      0-10\n",
       "5   Tumis brokoli udang makaroni      8      0-10\n",
       "6               Udang Bakar Madu     23     21-30\n",
       "7             Udang Lombok Merah      5      0-10\n",
       "8     Telur dadar mini isi udang      4      0-10\n",
       "9       Martabak Mini Tahu Udang      6      0-10"
      ]
     },
     "execution_count": 114,
     "metadata": {},
     "output_type": "execute_result"
    }
   ],
   "source": [
    "dishNumber = 567\n",
    "res = list_Similar_dishes(dishNumber, \"recipe_embedding_fasttext\")\n",
    "res[0]"
   ]
  },
  {
   "cell_type": "code",
   "execution_count": null,
   "metadata": {},
   "outputs": [],
   "source": []
  }
 ],
 "metadata": {
  "kernelspec": {
   "display_name": "Python 3",
   "language": "python",
   "name": "python3"
  },
  "language_info": {
   "codemirror_mode": {
    "name": "ipython",
    "version": 3
   },
   "file_extension": ".py",
   "mimetype": "text/x-python",
   "name": "python",
   "nbconvert_exporter": "python",
   "pygments_lexer": "ipython3",
   "version": "3.12.0"
  }
 },
 "nbformat": 4,
 "nbformat_minor": 4
}
